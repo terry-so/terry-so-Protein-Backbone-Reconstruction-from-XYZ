{
 "cells": [
  {
   "cell_type": "markdown",
   "id": "b00ee823",
   "metadata": {},
   "source": [
    "## Project Overview\n",
    "In this project, I developed a Python program to identify and trace the backbone of a polypeptide chain from a molecular structure file in XYZ format. The program reads atomic data from the file, determines which atoms are bonded based on covalent radii and interatomic distances, and locates specific functional groups such as amide and carboxyl groups. Starting from the nitrogen atom at the N-terminus, the program reconstructs the polypeptide backbone by following a biologically accurate path through the molecule. The result is a clear, ordered list of backbone atoms, printed in a structured format that reflects the true sequence of the chain.\n",
    "\n"
   ]
  },
  {
   "cell_type": "markdown",
   "id": "44f416ea",
   "metadata": {},
   "source": [
    "### Key Features\n",
    "\n",
    "- Parses `.xyz` molecular files and extracts atom types, positions, and coordinates.\n",
    "- Determines bonded atoms by comparing interatomic distances against the sum of covalent radii (+0.4 Å tolerance).\n",
    "- Detects functional groups:\n",
    "  - **Amide group**: carbon bonded to both nitrogen and oxygen\n",
    "  - **Carboxyl group**: carbon bonded to two oxygens\n",
    "- Identifies the start of the chain by locating a nitrogen atom bonded to four atoms (N-terminus).\n",
    "- Traces through the backbone structure by following bonds and printing atom identities and indices in order.\n",
    "- Outputs the full backbone chain with formatting:\n"
   ]
  },
  {
   "cell_type": "code",
   "execution_count": 1,
   "id": "171706e8",
   "metadata": {},
   "outputs": [],
   "source": [
    "import pandas as pd\n",
    "import numpy as np\n",
    "from cov_radii import *"
   ]
  },
  {
   "cell_type": "code",
   "execution_count": 2,
   "id": "a00b99bb",
   "metadata": {},
   "outputs": [
    {
     "data": {
      "text/html": [
       "<div>\n",
       "<style scoped>\n",
       "    .dataframe tbody tr th:only-of-type {\n",
       "        vertical-align: middle;\n",
       "    }\n",
       "\n",
       "    .dataframe tbody tr th {\n",
       "        vertical-align: top;\n",
       "    }\n",
       "\n",
       "    .dataframe thead th {\n",
       "        text-align: right;\n",
       "    }\n",
       "</style>\n",
       "<table border=\"1\" class=\"dataframe\">\n",
       "  <thead>\n",
       "    <tr style=\"text-align: right;\">\n",
       "      <th></th>\n",
       "      <th>atom</th>\n",
       "      <th>x</th>\n",
       "      <th>y</th>\n",
       "      <th>z</th>\n",
       "    </tr>\n",
       "  </thead>\n",
       "  <tbody>\n",
       "    <tr>\n",
       "      <th>0</th>\n",
       "      <td>N</td>\n",
       "      <td>-22.81300</td>\n",
       "      <td>-15.68100</td>\n",
       "      <td>8.13800</td>\n",
       "    </tr>\n",
       "    <tr>\n",
       "      <th>1</th>\n",
       "      <td>C</td>\n",
       "      <td>-22.50900</td>\n",
       "      <td>-16.60700</td>\n",
       "      <td>9.21500</td>\n",
       "    </tr>\n",
       "    <tr>\n",
       "      <th>2</th>\n",
       "      <td>C</td>\n",
       "      <td>-21.10200</td>\n",
       "      <td>-16.40200</td>\n",
       "      <td>9.74500</td>\n",
       "    </tr>\n",
       "    <tr>\n",
       "      <th>3</th>\n",
       "      <td>O</td>\n",
       "      <td>-20.85800</td>\n",
       "      <td>-16.48100</td>\n",
       "      <td>10.95200</td>\n",
       "    </tr>\n",
       "    <tr>\n",
       "      <th>4</th>\n",
       "      <td>N</td>\n",
       "      <td>-20.16700</td>\n",
       "      <td>-16.13700</td>\n",
       "      <td>8.84000</td>\n",
       "    </tr>\n",
       "    <tr>\n",
       "      <th>...</th>\n",
       "      <td>...</td>\n",
       "      <td>...</td>\n",
       "      <td>...</td>\n",
       "      <td>...</td>\n",
       "    </tr>\n",
       "    <tr>\n",
       "      <th>196</th>\n",
       "      <td>H</td>\n",
       "      <td>-14.59685</td>\n",
       "      <td>-17.51337</td>\n",
       "      <td>24.17883</td>\n",
       "    </tr>\n",
       "    <tr>\n",
       "      <th>197</th>\n",
       "      <td>H</td>\n",
       "      <td>-15.69359</td>\n",
       "      <td>-16.92701</td>\n",
       "      <td>21.53027</td>\n",
       "    </tr>\n",
       "    <tr>\n",
       "      <th>198</th>\n",
       "      <td>H</td>\n",
       "      <td>-16.31849</td>\n",
       "      <td>-16.40429</td>\n",
       "      <td>22.98308</td>\n",
       "    </tr>\n",
       "    <tr>\n",
       "      <th>199</th>\n",
       "      <td>H</td>\n",
       "      <td>-16.30627</td>\n",
       "      <td>-18.02944</td>\n",
       "      <td>22.61824</td>\n",
       "    </tr>\n",
       "    <tr>\n",
       "      <th>200</th>\n",
       "      <td>O</td>\n",
       "      <td>-12.64006</td>\n",
       "      <td>-10.43422</td>\n",
       "      <td>23.70702</td>\n",
       "    </tr>\n",
       "  </tbody>\n",
       "</table>\n",
       "<p>201 rows × 4 columns</p>\n",
       "</div>"
      ],
      "text/plain": [
       "    atom         x         y         z\n",
       "0      N -22.81300 -15.68100   8.13800\n",
       "1      C -22.50900 -16.60700   9.21500\n",
       "2      C -21.10200 -16.40200   9.74500\n",
       "3      O -20.85800 -16.48100  10.95200\n",
       "4      N -20.16700 -16.13700   8.84000\n",
       "..   ...       ...       ...       ...\n",
       "196    H -14.59685 -17.51337  24.17883\n",
       "197    H -15.69359 -16.92701  21.53027\n",
       "198    H -16.31849 -16.40429  22.98308\n",
       "199    H -16.30627 -18.02944  22.61824\n",
       "200    O -12.64006 -10.43422  23.70702\n",
       "\n",
       "[201 rows x 4 columns]"
      ]
     },
     "metadata": {},
     "output_type": "display_data"
    }
   ],
   "source": [
    "polypep = pd.read_table('polypep.xyz', skiprows=2, sep='\\\\s+',\n",
    "                         names=['atom', 'x', 'y', 'z'])\n",
    "display(polypep)"
   ]
  },
  {
   "cell_type": "markdown",
   "id": "dc8a3ad0",
   "metadata": {},
   "source": [
    "### parse_line(*number*,*string*)\n",
    "\n",
    "This function receives one integer number, here refered as atom_label, and one string as its argument (a line of the XYZ file) and return a list of the form:\n",
    "\n",
    " [element_symbol,atom_label,coordinate_array]\n",
    "\n",
    "where element_symbol is a string with the chemical symbol letter(s), atom_label is an integer passed on as argument to the function and corresponds to the position of the atom in the sequence of the XYZ file, and coordinate_array is an array of numbers with the atom coordinates. For example:\n",
    "\n",
    "    ['Se',137,array([66.52700,-0.24800,33.94300])]"
   ]
  },
  {
   "cell_type": "code",
   "execution_count": 3,
   "id": "e541fcb3",
   "metadata": {},
   "outputs": [],
   "source": [
    "def parse_line(number,file_name):\n",
    "\n",
    "    molecule = pd.read_table(file_name, skiprows=2, sep='\\\\s+',\n",
    "                         names=['atom', 'x', 'y', 'z'])\n",
    "    atom = molecule.loc[number-1,'atom']\n",
    "    x = molecule.loc[number-1,'x']\n",
    "    y = molecule.loc[number-1,'y']\n",
    "    z = molecule.loc[number-1,'z']\n",
    "    return [atom, number, np.array([x, y, z])]\n"
   ]
  },
  {
   "cell_type": "code",
   "execution_count": 4,
   "id": "015453fa",
   "metadata": {},
   "outputs": [
    {
     "data": {
      "text/plain": [
       "['N', 1, array([-22.813, -15.681,   8.138])]"
      ]
     },
     "execution_count": 4,
     "metadata": {},
     "output_type": "execute_result"
    }
   ],
   "source": [
    "parse_line(1,'polypep.xyz')"
   ]
  },
  {
   "cell_type": "markdown",
   "id": "70bac1de",
   "metadata": {},
   "source": [
    "### Whole_list(file_name)\n",
    "This function reveives one string and return a list of lists, each of them of the form of the output of parse_line()."
   ]
  },
  {
   "cell_type": "code",
   "execution_count": 5,
   "id": "902cc776",
   "metadata": {},
   "outputs": [],
   "source": [
    "def whole_list(file_name):\n",
    "    #this return the whole list from the given file_name\n",
    "    rows = len(pd.read_table(file_name, skiprows=2, sep='\\\\s+',\n",
    "                         names=['atom', 'x', 'y', 'z']))\n",
    "    i = 0\n",
    "    whole_list = []\n",
    "    while i < rows:\n",
    "        \n",
    "        i = i+1\n",
    "    \n",
    "        whole_list.append(parse_line(i,file_name))\n",
    "\n",
    "    return whole_list"
   ]
  },
  {
   "cell_type": "markdown",
   "id": "7716eb1b",
   "metadata": {},
   "source": [
    "### distance(*array1*,*array2*) \n",
    "\n",
    "This function receives two arrays as arguments, each array containing the coordinates of a point in 3D space. The function should return the distance between these two points in space."
   ]
  },
  {
   "cell_type": "code",
   "execution_count": 6,
   "id": "7f43ce0d",
   "metadata": {},
   "outputs": [],
   "source": [
    "def distance(array1,array2):\n",
    "    \n",
    "    \n",
    "    return np.linalg.norm(array1 - array2)"
   ]
  },
  {
   "cell_type": "code",
   "execution_count": 7,
   "id": "8c536c99",
   "metadata": {},
   "outputs": [
    {
     "data": {
      "text/plain": [
       "1.5174234741824704"
      ]
     },
     "execution_count": 7,
     "metadata": {},
     "output_type": "execute_result"
    }
   ],
   "source": [
    "distance (np.array([-22.509, -16.607,   9.215]), np.array([-21.102, -16.402,   9.745]))"
   ]
  },
  {
   "cell_type": "markdown",
   "id": "7a637be2",
   "metadata": {},
   "source": [
    "\n",
    "### coordination(*list1*,*list2*)\n",
    "\n",
    "This function receives two lists: list1 is of the same form as the output of parse_line(); and list2 is a list of lists, each of them of the form of the output of parse_line(). The function should determine which of the atoms in list2 are bound to the atom of list1, and output these as a list with the same format as list2 but only with the bound atoms."
   ]
  },
  {
   "cell_type": "code",
   "execution_count": 8,
   "id": "fd972bcd",
   "metadata": {},
   "outputs": [],
   "source": [
    "def coordination(list1,list2):\n",
    "    # list 2 is a list of lists. The function determines what atom in list2 is attached to list 1.\n",
    "    bonded_atom_list = []\n",
    "\n",
    "    \n",
    "    for i in list2:\n",
    "        atom_distance = distance(list1[2],i[2])\n",
    "            \n",
    "            \n",
    "        if atom_distance < (cov_dictionary[list1[0]] + cov_dictionary[i[0]] + 0.4) and atom_distance != 0:\n",
    "            bonded_atom_list = bonded_atom_list+[i]\n",
    "        \n",
    "    return bonded_atom_list"
   ]
  },
  {
   "cell_type": "code",
   "execution_count": 9,
   "id": "a1caeb2a",
   "metadata": {},
   "outputs": [
    {
     "name": "stdout",
     "output_type": "stream",
     "text": [
      "['C', 3, array([-21.102, -16.402,   9.745])]\n"
     ]
    },
    {
     "data": {
      "text/plain": [
       "[['C', 3, array([-21.102, -16.402,   9.745])],\n",
       " ['C', 6, array([-18.785, -15.914,   9.242])],\n",
       " ['H', 108, array([-20.41058, -16.09078,   7.88723])]]"
      ]
     },
     "execution_count": 9,
     "metadata": {},
     "output_type": "execute_result"
    }
   ],
   "source": [
    "print(parse_line(3,'polypep.xyz'))\n",
    "coordination(parse_line(5,'polypep.xyz'),whole_list('polypep.xyz'))"
   ]
  },
  {
   "cell_type": "markdown",
   "id": "e0814898",
   "metadata": {},
   "source": [
    "### amide(*list1*,*list2*)\n",
    "\n",
    "This function receives two lists of the same form as the arguments of coordination function(). list1 corresponds to a carbon atom, and list2 to a list with all atoms in the molecule. The function returns a boolean depending on whether the atom is part of an amide bond or not."
   ]
  },
  {
   "cell_type": "code",
   "execution_count": 10,
   "id": "a5205c3e",
   "metadata": {},
   "outputs": [],
   "source": [
    "def amide(list1, list2):\n",
    "    if list1[0] != 'C':\n",
    "        return False\n",
    "    bonded_atoms = coordination(list1, list2)\n",
    "    \n",
    "    has_N = any(atom[0] == 'N' for atom in bonded_atoms)\n",
    "   \n",
    "    has_O = any(atom[0] == 'O' for atom in bonded_atoms)\n",
    "  \n",
    "\n",
    "\n",
    "\n",
    "    return has_N and has_O"
   ]
  },
  {
   "cell_type": "code",
   "execution_count": 11,
   "id": "c3b3bf7d",
   "metadata": {},
   "outputs": [
    {
     "data": {
      "text/plain": [
       "True"
      ]
     },
     "execution_count": 11,
     "metadata": {},
     "output_type": "execute_result"
    }
   ],
   "source": [
    "(amide(parse_line(3,'polypep.xyz'),whole_list('polypep.xyz')))\n"
   ]
  },
  {
   "cell_type": "markdown",
   "id": "63093fe4",
   "metadata": {},
   "source": [
    "\n",
    "### carboxyl(*list1*,*list2*) \n",
    "\n",
    "This function receives two lists of the same form as the arguments of coordination function(). list1 corresponds to a carbon atom, and list2 to a list with all atoms in the molecule. The function returns a boolean depending on whether the atom is part of a carboxyl group or not."
   ]
  },
  {
   "cell_type": "code",
   "execution_count": 12,
   "id": "caed07e3",
   "metadata": {},
   "outputs": [],
   "source": [
    "def carboxyl(list1, list2):\n",
    "    if list1[0] != 'C':\n",
    "        return False\n",
    "    number_of_oxygen = 0\n",
    "    if list1[0] == 'C':\n",
    "        if len(coordination(list1, list2)) == 3:\n",
    "            for i in coordination(list1, list2):\n",
    "                if i[0] == 'O':\n",
    "                    number_of_oxygen += 1\n",
    "\n",
    "    return number_of_oxygen == 2"
   ]
  },
  {
   "cell_type": "code",
   "execution_count": 13,
   "id": "4c8c9247",
   "metadata": {},
   "outputs": [
    {
     "name": "stdout",
     "output_type": "stream",
     "text": [
      "['C', 11, array([-17.012, -17.317,   6.061])]\n"
     ]
    },
    {
     "data": {
      "text/plain": [
       "[['C', 10, array([-17.828, -17.285,   7.336])],\n",
       " ['O', 12, array([-17.101, -16.363,   5.261])],\n",
       " ['O', 13, array([-16.291, -18.317,   5.846])]]"
      ]
     },
     "execution_count": 13,
     "metadata": {},
     "output_type": "execute_result"
    }
   ],
   "source": [
    "print(parse_line(11,'polypep.xyz'))\n",
    "coordination(parse_line(11,'polypep.xyz'), whole_list('polypep.xyz'))"
   ]
  },
  {
   "cell_type": "markdown",
   "id": "37816f19",
   "metadata": {},
   "source": [
    "### backbone(file_name)\n",
    "This function identifies and prints the sequence of atoms forming the backbone of a polypeptide chain from a molecular structure file in .xyz format."
   ]
  },
  {
   "cell_type": "code",
   "execution_count": 14,
   "id": "40266b9b",
   "metadata": {},
   "outputs": [],
   "source": [
    "def backbone(file_name):\n",
    "    atoms = whole_list(file_name) \n",
    "    backbone_list = []\n",
    "\n",
    "    for atom in atoms:\n",
    "        if carboxyl(atom, atoms) or amide(atom, atoms):\n",
    "            backbone_list.append(atom)\n",
    "\n",
    "    for atom in backbone_list[:]: \n",
    "        for bonded in coordination(atom, atoms):\n",
    "            if bonded[0] in ('N', 'C') and bonded not in backbone_list:\n",
    "                backbone_list.append(bonded)\n",
    "\n",
    "    first_atom = None\n",
    "    for atom in atoms:\n",
    "        if atom[0] == 'N' and len(coordination(atom, atoms)) == 4:\n",
    "            for bonded in coordination(atom, atoms):\n",
    "                if any(bonded[1] == b[1] for b in backbone_list):\n",
    "                    first_atom = atom\n",
    "                    break\n",
    "            if first_atom:\n",
    "                break\n",
    "\n",
    "    if not first_atom:\n",
    "        print(\"Start nitrogen not found.\")\n",
    "        return\n",
    "\n",
    "    \n",
    "    print('~')\n",
    "    print(first_atom[0], first_atom[1])\n",
    "    print('|')\n",
    "\n",
    "   \n",
    "    current_atom = first_atom\n",
    "    while True:\n",
    "        bonded_atoms = coordination(current_atom, backbone_list)\n",
    "        if not bonded_atoms:\n",
    "            print(\"Backbone traversal incomplete.\")\n",
    "            break\n",
    "\n",
    "        next_atom = bonded_atoms[0]\n",
    "        print(next_atom[0], next_atom[1])\n",
    "        backbone_list.remove(next_atom)\n",
    "\n",
    "        if carboxyl(next_atom, atoms):\n",
    "            print('~')\n",
    "            break\n",
    "\n",
    "        print('|')\n",
    "        current_atom = next_atom"
   ]
  },
  {
   "cell_type": "code",
   "execution_count": 15,
   "id": "6cb73a80",
   "metadata": {},
   "outputs": [
    {
     "name": "stdout",
     "output_type": "stream",
     "text": [
      "~\n",
      "N 1\n",
      "|\n",
      "C 2\n",
      "|\n",
      "C 3\n",
      "|\n",
      "N 5\n",
      "|\n",
      "C 6\n",
      "|\n",
      "C 7\n",
      "|\n",
      "N 14\n",
      "|\n",
      "C 15\n",
      "|\n",
      "C 16\n",
      "|\n",
      "N 28\n",
      "|\n",
      "C 29\n",
      "|\n",
      "C 30\n",
      "|\n",
      "N 37\n",
      "|\n",
      "C 38\n",
      "|\n",
      "C 39\n",
      "|\n",
      "N 46\n",
      "|\n",
      "C 47\n",
      "|\n",
      "C 48\n",
      "|\n",
      "N 53\n",
      "|\n",
      "C 54\n",
      "|\n",
      "C 55\n",
      "|\n",
      "N 61\n",
      "|\n",
      "C 62\n",
      "|\n",
      "C 63\n",
      "|\n",
      "N 69\n",
      "|\n",
      "C 70\n",
      "|\n",
      "C 71\n",
      "|\n",
      "N 76\n",
      "|\n",
      "C 77\n",
      "|\n",
      "C 78\n",
      "|\n",
      "N 90\n",
      "|\n",
      "C 91\n",
      "|\n",
      "C 92\n",
      "|\n",
      "N 94\n",
      "|\n",
      "C 95\n",
      "|\n",
      "C 96\n",
      "~\n"
     ]
    }
   ],
   "source": [
    "backbone('polypep.xyz')"
   ]
  },
  {
   "cell_type": "code",
   "execution_count": null,
   "id": "4f0e7bcd",
   "metadata": {},
   "outputs": [],
   "source": []
  }
 ],
 "metadata": {
  "kernelspec": {
   "display_name": "base",
   "language": "python",
   "name": "python3"
  },
  "language_info": {
   "codemirror_mode": {
    "name": "ipython",
    "version": 3
   },
   "file_extension": ".py",
   "mimetype": "text/x-python",
   "name": "python",
   "nbconvert_exporter": "python",
   "pygments_lexer": "ipython3",
   "version": "3.12.4"
  }
 },
 "nbformat": 4,
 "nbformat_minor": 5
}
